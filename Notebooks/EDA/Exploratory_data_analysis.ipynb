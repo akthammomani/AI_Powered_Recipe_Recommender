{
 "cells": [
  {
   "cell_type": "markdown",
   "id": "796325c6-1309-41a6-92ff-ee019488f29b",
   "metadata": {},
   "source": [
    "<img src=\"https://github.com/akthammomani/akthammomani/assets/67468718/8d1f93b4-2270-477b-bd76-f9ec1c075307\" width=\"1700\"/>"
   ]
  },
  {
   "cell_type": "markdown",
   "id": "05899573-2f48-495e-a75e-6eaa7cab4c03",
   "metadata": {},
   "source": [
    "# Exploratory Data Analysis: AI-Powered Recipe Recommender\n",
    "\n",
    "* **Group 1:** Aktham Almomani, Victor Hsu and Yunus Tezcan\n",
    "* **Course:** Introduction to Artificial Intelligence (MS-AAI-501) / University Of San Diego\n",
    "* **Semester:** Summer 2024\n",
    "\n",
    "\n",
    "\n",
    "<center>\n",
    "    <img src=\"https://github.com/akthammomani/AI_powered_heart_disease_risk_assessment_app/assets/67468718/7964de28-7421-4718-a3b3-d5ff125d7468\" alt=\"EDA\">\n",
    "</center>\n"
   ]
  },
  {
   "cell_type": "markdown",
   "id": "afc2a8cd-43c6-4cc6-be32-b3b46a46a2e8",
   "metadata": {
    "jp-MarkdownHeadingCollapsed": true
   },
   "source": [
    "## **Introduction**<a id='Introduction'></a>\n",
    "[Contents](#Contents)\n",
    "\n",
    "Welcome to the Exploratory Data Analysis (EDA) notebook for our AI-Powered Recipe Recommendation Project. This notebook is a crucial phase in our data science process, focused on extracting valuable insights and patterns from our dataset, which will inform the development of our recommendation system.\n",
    "\n",
    "**In this notebook, we will:**\n",
    "\n",
    "* Validate the Dataset: Ensure the data is clean, consistent, and ready for analysis.\n",
    "* Explore Feature Distributions: Analyze the distribution of various features such as recipe categories, diet types, preparation times, and ingredient counts.\n",
    "* Parse Ingredients: Use Natural Language Processing (NLP) techniques, specifically the SpaCy model, to clean and standardize the ingredients.\n",
    "* Analyze Recipe Length: Investigate the number of words in recipe directions and how this affects other factors like reviews and ratings.\n",
    "* Analyze Nutritional Content: Examine the nutritional information across different recipes to categorize them by diet type.\n",
    "* Correlations Analysis: Investigate correlations between various features such as preparation time, cook time, nutritional values, and recipe popularity.\n",
    "* Popular Ingredients Analysis: Identify and visualize the most frequently used ingredients in the recipes."
   ]
  },
  {
   "cell_type": "markdown",
   "id": "05bdc37b-36b5-43d8-958a-484568bfcc52",
   "metadata": {},
   "source": [
    "## **Dataset**<a id='Dataset'></a>\n",
    "[Contents](#Contents)\n",
    "\n",
    "**[All recipes website](https://www.allrecipes.com/)** is a popular online platform known for its extensive collection of user-generated recipes. It is a go-to resource for home cooks and culinary enthusiasts, offering a diverse range of recipes across various cuisines and dietary preferences. The website features detailed recipe information, including ingredients, instructions, user ratings, and reviews, making it a comprehensive resource for anyone looking to explore new dishes or improve their cooking skills.\n",
    "\n",
    "For AI-Powered Recipe Recommender project, we will be using a dataset scraped from **[All recipes website](https://www.allrecipes.com/)**. This [dataset](https://github.com/shaansubbaiah/allrecipes-scraper/blob/main/export/scraped-07-05-21.csv), provides a wealth of information about a wide variety of recipes, which will be essential for building an effective recommendation system.\n",
    "\n",
    "**Key Features of the Dataset:**\n",
    "* Recipe Titles\n",
    "* Ingredients\n",
    "* Instructions\n",
    "* Ratings\n",
    "* Reviews\n",
    "* Preparation and Cooking Times\n",
    "* Nutritional information\n",
    "\n",
    "The dataset from **[All recipes website](https://www.allrecipes.com/)** is a rich resource for AI-Recipe Recommender Project. It contains comprehensive details about each recipe, including titles, ingredients, instructions, ratings, reviews, and nutritional information. Leveraging this data, this project can deliver personalized, relevant, and appealing recipe recommendations to users, enhancing their cooking experience and meeting their dietary preferences.\n",
    "\n"
   ]
  },
  {
   "cell_type": "markdown",
   "id": "fa7623e9-024c-4085-a55d-466b3eceb5cb",
   "metadata": {},
   "source": [
    "## **Setup and preliminaries**<a id='Setup_and_preliminaries'></a>\n",
    "[Contents](#Contents)"
   ]
  },
  {
   "cell_type": "markdown",
   "id": "04126283-1889-4f8e-96cc-8ed687884566",
   "metadata": {},
   "source": [
    "### Import libraries<a id='Import_libraries'></a>\n",
    "[Contents](#Contents)"
   ]
  },
  {
   "cell_type": "code",
   "execution_count": 28,
   "id": "45cf017a-d4ca-4eee-9144-c00a85eb7723",
   "metadata": {
    "tags": []
   },
   "outputs": [],
   "source": [
    "#Let's import the necessary packages:\n",
    "import pandas as pd\n",
    "import numpy as np\n",
    "import matplotlib.pyplot as plt\n",
    "import seaborn as sns\n",
    "\n",
    "# let's run below to customize notebook display:\n",
    "pd.set_option('display.max_columns', None)\n",
    "pd.set_option('display.max_rows', None)\n",
    "\n",
    "\n",
    "# format floating-point numbers to 2 decimal places: we'll adjust below requirement as needed for specific answers during this assignment:\n",
    "#pd.set_option('float_format', '{:.2f}'.format)"
   ]
  },
  {
   "cell_type": "markdown",
   "id": "d83e9eb6-182b-4709-ade6-9e0135cab9ce",
   "metadata": {},
   "source": [
    "### **Necessary  functions**<a id='Necessary_Functions'></a>\n",
    "[Contents](#Contents)"
   ]
  },
  {
   "cell_type": "code",
   "execution_count": null,
   "id": "b66a6673-532b-4d43-98a3-cd6ada5f362e",
   "metadata": {},
   "outputs": [],
   "source": []
  },
  {
   "cell_type": "markdown",
   "id": "f063d070-3d60-40dc-bcc5-4760bf3f4359",
   "metadata": {},
   "source": [
    "## **Importing dataset**<a id='Importing_dataset'></a>\n",
    "[Contents](#Contents)"
   ]
  },
  {
   "cell_type": "code",
   "execution_count": 30,
   "id": "3e356efe-cc26-4c36-b29c-73e5e66680bc",
   "metadata": {
    "tags": []
   },
   "outputs": [],
   "source": [
    "#First, let's load the cleaned dataset \"Data Wrangling output dataset\":\n",
    "df = pd.read_csv('all_recipes_final_df.csv')"
   ]
  },
  {
   "cell_type": "markdown",
   "id": "2a5f9532-b2b5-4631-a359-eee5d06a8288",
   "metadata": {},
   "source": [
    "## **Validating the dataset**<a id='Validating_the_dataset'></a>\n",
    "[Contents](#Contents)"
   ]
  },
  {
   "cell_type": "code",
   "execution_count": 12,
   "id": "3211e8d4-11c9-4f46-ab54-ebdf18ed3686",
   "metadata": {
    "tags": []
   },
   "outputs": [
    {
     "data": {
      "text/html": [
       "<div>\n",
       "<style scoped>\n",
       "    .dataframe tbody tr th:only-of-type {\n",
       "        vertical-align: middle;\n",
       "    }\n",
       "\n",
       "    .dataframe tbody tr th {\n",
       "        vertical-align: top;\n",
       "    }\n",
       "\n",
       "    .dataframe thead th {\n",
       "        text-align: right;\n",
       "    }\n",
       "</style>\n",
       "<table border=\"1\" class=\"dataframe\">\n",
       "  <thead>\n",
       "    <tr style=\"text-align: right;\">\n",
       "      <th></th>\n",
       "      <th>name</th>\n",
       "      <th>url</th>\n",
       "      <th>category</th>\n",
       "      <th>summary</th>\n",
       "      <th>rating</th>\n",
       "      <th>rating_count</th>\n",
       "      <th>review_count</th>\n",
       "      <th>ingredients</th>\n",
       "      <th>directions</th>\n",
       "      <th>prep</th>\n",
       "      <th>cook</th>\n",
       "      <th>servings</th>\n",
       "      <th>calories</th>\n",
       "      <th>carbohydrates_g</th>\n",
       "      <th>sugars_g</th>\n",
       "      <th>fat_g</th>\n",
       "      <th>saturated_fat_g</th>\n",
       "      <th>cholesterol_mg</th>\n",
       "      <th>protein_g</th>\n",
       "      <th>dietary_fiber_g</th>\n",
       "      <th>sodium_mg</th>\n",
       "      <th>calories_from_fat</th>\n",
       "      <th>calcium_mg</th>\n",
       "      <th>iron_mg</th>\n",
       "      <th>magnesium_mg</th>\n",
       "      <th>potassium_mg</th>\n",
       "      <th>vitamin_a_iu_IU</th>\n",
       "      <th>niacin_equivalents_mg</th>\n",
       "      <th>vitamin_c_mg</th>\n",
       "      <th>folate_mcg</th>\n",
       "      <th>thiamin_mg</th>\n",
       "      <th>total</th>\n",
       "      <th>parsed_ingredients</th>\n",
       "      <th>high_level_ingredients</th>\n",
       "      <th>ingredient_count</th>\n",
       "      <th>diet_type</th>\n",
       "      <th>carbohydrates_g_dv_perc</th>\n",
       "      <th>sugars_g_dv_perc</th>\n",
       "      <th>fat_g_dv_perc</th>\n",
       "      <th>saturated_fat_g_dv_perc</th>\n",
       "      <th>cholesterol_mg_dv_perc</th>\n",
       "      <th>protein_g_dv_perc</th>\n",
       "      <th>dietary_fiber_g_dv_perc</th>\n",
       "      <th>sodium_mg_dv_perc</th>\n",
       "      <th>calcium_mg_dv_perc</th>\n",
       "      <th>iron_mg_dv_perc</th>\n",
       "      <th>magnesium_mg_dv_perc</th>\n",
       "      <th>potassium_mg_dv_perc</th>\n",
       "      <th>vitamin_a_iu_IU_dv_perc</th>\n",
       "      <th>niacin_equivalents_mg_dv_perc</th>\n",
       "      <th>vitamin_c_mg_dv_perc</th>\n",
       "      <th>folate_mcg_dv_perc</th>\n",
       "      <th>thiamin_mg_dv_perc</th>\n",
       "      <th>calories_from_fat_dv_perc</th>\n",
       "      <th>recipe_length</th>\n",
       "    </tr>\n",
       "  </thead>\n",
       "  <tbody>\n",
       "    <tr>\n",
       "      <th>0</th>\n",
       "      <td>Simple Macaroni and Cheese</td>\n",
       "      <td>https://www.allrecipes.com/recipe/238691/simpl...</td>\n",
       "      <td>main-dish</td>\n",
       "      <td>A very quick and easy fix to a tasty side-dish...</td>\n",
       "      <td>4.42</td>\n",
       "      <td>834</td>\n",
       "      <td>575</td>\n",
       "      <td>1 (8 ounce) box elbow macaroni ; ¼ cup butter ...</td>\n",
       "      <td>Bring a large pot of lightly salted water to a...</td>\n",
       "      <td>10 mins</td>\n",
       "      <td>20 mins</td>\n",
       "      <td>4</td>\n",
       "      <td>630.2</td>\n",
       "      <td>55.0</td>\n",
       "      <td>7.6</td>\n",
       "      <td>33.6</td>\n",
       "      <td>20.9</td>\n",
       "      <td>99.6</td>\n",
       "      <td>26.5</td>\n",
       "      <td>2.1</td>\n",
       "      <td>777.0</td>\n",
       "      <td>302.2</td>\n",
       "      <td>567.9</td>\n",
       "      <td>2.7</td>\n",
       "      <td>61.8</td>\n",
       "      <td>380.0</td>\n",
       "      <td>1152.0</td>\n",
       "      <td>10.1</td>\n",
       "      <td>0.3</td>\n",
       "      <td>165.6</td>\n",
       "      <td>0.7</td>\n",
       "      <td>30 mins</td>\n",
       "      <td>['1 (8 ounce) box elbow macaroni', '¼ cup butt...</td>\n",
       "      <td>['all - purpose flour', 'salt', 'milk', 'elbow...</td>\n",
       "      <td>7</td>\n",
       "      <td>High Protein</td>\n",
       "      <td>20.00</td>\n",
       "      <td>15.2</td>\n",
       "      <td>43.08</td>\n",
       "      <td>104.5</td>\n",
       "      <td>33.20</td>\n",
       "      <td>53.0</td>\n",
       "      <td>7.50</td>\n",
       "      <td>33.78</td>\n",
       "      <td>43.68</td>\n",
       "      <td>15.00</td>\n",
       "      <td>14.71</td>\n",
       "      <td>8.09</td>\n",
       "      <td>23.04</td>\n",
       "      <td>63.12</td>\n",
       "      <td>0.33</td>\n",
       "      <td>41.40</td>\n",
       "      <td>58.33</td>\n",
       "      <td>15.12</td>\n",
       "      <td>91</td>\n",
       "    </tr>\n",
       "    <tr>\n",
       "      <th>1</th>\n",
       "      <td>Gourmet Mushroom Risotto</td>\n",
       "      <td>https://www.allrecipes.com/recipe/85389/gourme...</td>\n",
       "      <td>main-dish</td>\n",
       "      <td>Authentic Italian-style risotto cooked the slo...</td>\n",
       "      <td>4.80</td>\n",
       "      <td>3388</td>\n",
       "      <td>2245</td>\n",
       "      <td>6 cups chicken broth, divided ; 3 tablespoons ...</td>\n",
       "      <td>In a saucepan, warm the broth over low heat. W...</td>\n",
       "      <td>20 mins</td>\n",
       "      <td>30 mins</td>\n",
       "      <td>6</td>\n",
       "      <td>430.6</td>\n",
       "      <td>56.6</td>\n",
       "      <td>4.4</td>\n",
       "      <td>16.6</td>\n",
       "      <td>6.6</td>\n",
       "      <td>29.3</td>\n",
       "      <td>11.3</td>\n",
       "      <td>2.7</td>\n",
       "      <td>1130.8</td>\n",
       "      <td>149.8</td>\n",
       "      <td>70.1</td>\n",
       "      <td>2.1</td>\n",
       "      <td>24.1</td>\n",
       "      <td>692.0</td>\n",
       "      <td>520.3</td>\n",
       "      <td>7.5</td>\n",
       "      <td>3.8</td>\n",
       "      <td>36.9</td>\n",
       "      <td>0.1</td>\n",
       "      <td>50 mins</td>\n",
       "      <td>['6 cups chicken broth, divided', '3 tablespoo...</td>\n",
       "      <td>['chicken broth', 'shallots', 'Arborio rice', ...</td>\n",
       "      <td>12</td>\n",
       "      <td>Low Sugar</td>\n",
       "      <td>20.58</td>\n",
       "      <td>8.8</td>\n",
       "      <td>21.28</td>\n",
       "      <td>33.0</td>\n",
       "      <td>9.77</td>\n",
       "      <td>22.6</td>\n",
       "      <td>9.64</td>\n",
       "      <td>49.17</td>\n",
       "      <td>5.39</td>\n",
       "      <td>11.67</td>\n",
       "      <td>5.74</td>\n",
       "      <td>14.72</td>\n",
       "      <td>10.41</td>\n",
       "      <td>46.88</td>\n",
       "      <td>4.22</td>\n",
       "      <td>9.22</td>\n",
       "      <td>8.33</td>\n",
       "      <td>7.47</td>\n",
       "      <td>147</td>\n",
       "    </tr>\n",
       "    <tr>\n",
       "      <th>2</th>\n",
       "      <td>Dessert Crepes</td>\n",
       "      <td>https://www.allrecipes.com/recipe/19037/desser...</td>\n",
       "      <td>breakfast-and-brunch</td>\n",
       "      <td>Essential crepe recipe.  Sprinkle warm crepes ...</td>\n",
       "      <td>4.80</td>\n",
       "      <td>1156</td>\n",
       "      <td>794</td>\n",
       "      <td>4  eggs, lightly beaten ; 1 ⅓ cups milk ; 2 ta...</td>\n",
       "      <td>In large bowl, whisk together eggs, milk, melt...</td>\n",
       "      <td>10 mins</td>\n",
       "      <td>10 mins</td>\n",
       "      <td>8</td>\n",
       "      <td>163.8</td>\n",
       "      <td>17.2</td>\n",
       "      <td>5.3</td>\n",
       "      <td>7.7</td>\n",
       "      <td>3.4</td>\n",
       "      <td>111.1</td>\n",
       "      <td>6.4</td>\n",
       "      <td>0.4</td>\n",
       "      <td>234.5</td>\n",
       "      <td>69.0</td>\n",
       "      <td>65.6</td>\n",
       "      <td>1.2</td>\n",
       "      <td>11.2</td>\n",
       "      <td>115.4</td>\n",
       "      <td>347.8</td>\n",
       "      <td>2.3</td>\n",
       "      <td>0.1</td>\n",
       "      <td>43.5</td>\n",
       "      <td>0.2</td>\n",
       "      <td>20 mins</td>\n",
       "      <td>['4  eggs, lightly beaten', '1\\u2009⅓ cups mil...</td>\n",
       "      <td>['all - purpose flour', 'milk', 'white sugar',...</td>\n",
       "      <td>6</td>\n",
       "      <td>Low Carb, Low Fat</td>\n",
       "      <td>6.25</td>\n",
       "      <td>10.6</td>\n",
       "      <td>9.87</td>\n",
       "      <td>17.0</td>\n",
       "      <td>37.03</td>\n",
       "      <td>12.8</td>\n",
       "      <td>1.43</td>\n",
       "      <td>10.20</td>\n",
       "      <td>5.05</td>\n",
       "      <td>6.67</td>\n",
       "      <td>2.67</td>\n",
       "      <td>2.46</td>\n",
       "      <td>6.96</td>\n",
       "      <td>14.37</td>\n",
       "      <td>0.11</td>\n",
       "      <td>10.88</td>\n",
       "      <td>16.67</td>\n",
       "      <td>3.46</td>\n",
       "      <td>85</td>\n",
       "    </tr>\n",
       "    <tr>\n",
       "      <th>3</th>\n",
       "      <td>Pork Steaks</td>\n",
       "      <td>https://www.allrecipes.com/recipe/70463/pork-s...</td>\n",
       "      <td>meat-and-poultry</td>\n",
       "      <td>My mom came up with this recipe when I was a c...</td>\n",
       "      <td>4.57</td>\n",
       "      <td>689</td>\n",
       "      <td>539</td>\n",
       "      <td>¼ cup butter ; ¼ cup soy sauce ; 1 bunch green...</td>\n",
       "      <td>Melt butter in a skillet, and mix in the soy s...</td>\n",
       "      <td>15 mins</td>\n",
       "      <td>30 mins</td>\n",
       "      <td>6</td>\n",
       "      <td>353.1</td>\n",
       "      <td>3.9</td>\n",
       "      <td>1.1</td>\n",
       "      <td>25.4</td>\n",
       "      <td>11.4</td>\n",
       "      <td>118.0</td>\n",
       "      <td>26.5</td>\n",
       "      <td>1.1</td>\n",
       "      <td>719.7</td>\n",
       "      <td>228.4</td>\n",
       "      <td>59.0</td>\n",
       "      <td>2.5</td>\n",
       "      <td>35.4</td>\n",
       "      <td>436.9</td>\n",
       "      <td>618.3</td>\n",
       "      <td>9.0</td>\n",
       "      <td>7.4</td>\n",
       "      <td>25.8</td>\n",
       "      <td>0.7</td>\n",
       "      <td>45 mins</td>\n",
       "      <td>['¼ cup butter', '¼ cup soy sauce', '1 bunch g...</td>\n",
       "      <td>['soy sauce', 'pork butt', 'bunch green onions...</td>\n",
       "      <td>5</td>\n",
       "      <td>Low Carb, High Protein, Low Sugar</td>\n",
       "      <td>1.42</td>\n",
       "      <td>2.2</td>\n",
       "      <td>32.56</td>\n",
       "      <td>57.0</td>\n",
       "      <td>39.33</td>\n",
       "      <td>53.0</td>\n",
       "      <td>3.93</td>\n",
       "      <td>31.29</td>\n",
       "      <td>4.54</td>\n",
       "      <td>13.89</td>\n",
       "      <td>8.43</td>\n",
       "      <td>9.30</td>\n",
       "      <td>12.37</td>\n",
       "      <td>56.25</td>\n",
       "      <td>8.22</td>\n",
       "      <td>6.45</td>\n",
       "      <td>58.33</td>\n",
       "      <td>11.43</td>\n",
       "      <td>56</td>\n",
       "    </tr>\n",
       "    <tr>\n",
       "      <th>4</th>\n",
       "      <td>Chicken Parmesan</td>\n",
       "      <td>https://www.allrecipes.com/recipe/223042/chick...</td>\n",
       "      <td>world-cuisine</td>\n",
       "      <td>My version of chicken parmesan is a little dif...</td>\n",
       "      <td>4.83</td>\n",
       "      <td>4245</td>\n",
       "      <td>2662</td>\n",
       "      <td>4  skinless, boneless chicken breast halves ; ...</td>\n",
       "      <td>Preheat an oven to 450 degrees F (230 degrees ...</td>\n",
       "      <td>25 mins</td>\n",
       "      <td>20 mins</td>\n",
       "      <td>4</td>\n",
       "      <td>470.8</td>\n",
       "      <td>24.8</td>\n",
       "      <td>1.7</td>\n",
       "      <td>24.9</td>\n",
       "      <td>9.1</td>\n",
       "      <td>186.7</td>\n",
       "      <td>42.1</td>\n",
       "      <td>0.6</td>\n",
       "      <td>840.3</td>\n",
       "      <td>223.8</td>\n",
       "      <td>380.2</td>\n",
       "      <td>2.1</td>\n",
       "      <td>44.4</td>\n",
       "      <td>388.9</td>\n",
       "      <td>628.4</td>\n",
       "      <td>18.9</td>\n",
       "      <td>2.6</td>\n",
       "      <td>30.9</td>\n",
       "      <td>0.1</td>\n",
       "      <td>45 mins</td>\n",
       "      <td>['4  skinless, boneless chicken breast halves'...</td>\n",
       "      <td>['tomato sauce', 'fresh mozzarella', 'skinless...</td>\n",
       "      <td>13</td>\n",
       "      <td>High Protein, Low Sugar</td>\n",
       "      <td>9.02</td>\n",
       "      <td>3.4</td>\n",
       "      <td>31.92</td>\n",
       "      <td>45.5</td>\n",
       "      <td>62.23</td>\n",
       "      <td>84.2</td>\n",
       "      <td>2.14</td>\n",
       "      <td>36.53</td>\n",
       "      <td>29.25</td>\n",
       "      <td>11.67</td>\n",
       "      <td>10.57</td>\n",
       "      <td>8.27</td>\n",
       "      <td>12.57</td>\n",
       "      <td>118.12</td>\n",
       "      <td>2.89</td>\n",
       "      <td>7.72</td>\n",
       "      <td>8.33</td>\n",
       "      <td>11.20</td>\n",
       "      <td>248</td>\n",
       "    </tr>\n",
       "  </tbody>\n",
       "</table>\n",
       "</div>"
      ],
      "text/plain": [
       "                         name  \\\n",
       "0  Simple Macaroni and Cheese   \n",
       "1    Gourmet Mushroom Risotto   \n",
       "2              Dessert Crepes   \n",
       "3                 Pork Steaks   \n",
       "4            Chicken Parmesan   \n",
       "\n",
       "                                                 url              category  \\\n",
       "0  https://www.allrecipes.com/recipe/238691/simpl...             main-dish   \n",
       "1  https://www.allrecipes.com/recipe/85389/gourme...             main-dish   \n",
       "2  https://www.allrecipes.com/recipe/19037/desser...  breakfast-and-brunch   \n",
       "3  https://www.allrecipes.com/recipe/70463/pork-s...      meat-and-poultry   \n",
       "4  https://www.allrecipes.com/recipe/223042/chick...         world-cuisine   \n",
       "\n",
       "                                             summary  rating  rating_count  \\\n",
       "0  A very quick and easy fix to a tasty side-dish...    4.42           834   \n",
       "1  Authentic Italian-style risotto cooked the slo...    4.80          3388   \n",
       "2  Essential crepe recipe.  Sprinkle warm crepes ...    4.80          1156   \n",
       "3  My mom came up with this recipe when I was a c...    4.57           689   \n",
       "4  My version of chicken parmesan is a little dif...    4.83          4245   \n",
       "\n",
       "   review_count                                        ingredients  \\\n",
       "0           575  1 (8 ounce) box elbow macaroni ; ¼ cup butter ...   \n",
       "1          2245  6 cups chicken broth, divided ; 3 tablespoons ...   \n",
       "2           794  4  eggs, lightly beaten ; 1 ⅓ cups milk ; 2 ta...   \n",
       "3           539  ¼ cup butter ; ¼ cup soy sauce ; 1 bunch green...   \n",
       "4          2662  4  skinless, boneless chicken breast halves ; ...   \n",
       "\n",
       "                                          directions     prep     cook  \\\n",
       "0  Bring a large pot of lightly salted water to a...  10 mins  20 mins   \n",
       "1  In a saucepan, warm the broth over low heat. W...  20 mins  30 mins   \n",
       "2  In large bowl, whisk together eggs, milk, melt...  10 mins  10 mins   \n",
       "3  Melt butter in a skillet, and mix in the soy s...  15 mins  30 mins   \n",
       "4  Preheat an oven to 450 degrees F (230 degrees ...  25 mins  20 mins   \n",
       "\n",
       "   servings  calories  carbohydrates_g  sugars_g  fat_g  saturated_fat_g  \\\n",
       "0         4     630.2             55.0       7.6   33.6             20.9   \n",
       "1         6     430.6             56.6       4.4   16.6              6.6   \n",
       "2         8     163.8             17.2       5.3    7.7              3.4   \n",
       "3         6     353.1              3.9       1.1   25.4             11.4   \n",
       "4         4     470.8             24.8       1.7   24.9              9.1   \n",
       "\n",
       "   cholesterol_mg  protein_g  dietary_fiber_g  sodium_mg  calories_from_fat  \\\n",
       "0            99.6       26.5              2.1      777.0              302.2   \n",
       "1            29.3       11.3              2.7     1130.8              149.8   \n",
       "2           111.1        6.4              0.4      234.5               69.0   \n",
       "3           118.0       26.5              1.1      719.7              228.4   \n",
       "4           186.7       42.1              0.6      840.3              223.8   \n",
       "\n",
       "   calcium_mg  iron_mg  magnesium_mg  potassium_mg  vitamin_a_iu_IU  \\\n",
       "0       567.9      2.7          61.8         380.0           1152.0   \n",
       "1        70.1      2.1          24.1         692.0            520.3   \n",
       "2        65.6      1.2          11.2         115.4            347.8   \n",
       "3        59.0      2.5          35.4         436.9            618.3   \n",
       "4       380.2      2.1          44.4         388.9            628.4   \n",
       "\n",
       "   niacin_equivalents_mg  vitamin_c_mg  folate_mcg  thiamin_mg    total  \\\n",
       "0                   10.1           0.3       165.6         0.7  30 mins   \n",
       "1                    7.5           3.8        36.9         0.1  50 mins   \n",
       "2                    2.3           0.1        43.5         0.2  20 mins   \n",
       "3                    9.0           7.4        25.8         0.7  45 mins   \n",
       "4                   18.9           2.6        30.9         0.1  45 mins   \n",
       "\n",
       "                                  parsed_ingredients  \\\n",
       "0  ['1 (8 ounce) box elbow macaroni', '¼ cup butt...   \n",
       "1  ['6 cups chicken broth, divided', '3 tablespoo...   \n",
       "2  ['4  eggs, lightly beaten', '1\\u2009⅓ cups mil...   \n",
       "3  ['¼ cup butter', '¼ cup soy sauce', '1 bunch g...   \n",
       "4  ['4  skinless, boneless chicken breast halves'...   \n",
       "\n",
       "                              high_level_ingredients  ingredient_count  \\\n",
       "0  ['all - purpose flour', 'salt', 'milk', 'elbow...                 7   \n",
       "1  ['chicken broth', 'shallots', 'Arborio rice', ...                12   \n",
       "2  ['all - purpose flour', 'milk', 'white sugar',...                 6   \n",
       "3  ['soy sauce', 'pork butt', 'bunch green onions...                 5   \n",
       "4  ['tomato sauce', 'fresh mozzarella', 'skinless...                13   \n",
       "\n",
       "                           diet_type  carbohydrates_g_dv_perc  \\\n",
       "0                       High Protein                    20.00   \n",
       "1                          Low Sugar                    20.58   \n",
       "2                  Low Carb, Low Fat                     6.25   \n",
       "3  Low Carb, High Protein, Low Sugar                     1.42   \n",
       "4            High Protein, Low Sugar                     9.02   \n",
       "\n",
       "   sugars_g_dv_perc  fat_g_dv_perc  saturated_fat_g_dv_perc  \\\n",
       "0              15.2          43.08                    104.5   \n",
       "1               8.8          21.28                     33.0   \n",
       "2              10.6           9.87                     17.0   \n",
       "3               2.2          32.56                     57.0   \n",
       "4               3.4          31.92                     45.5   \n",
       "\n",
       "   cholesterol_mg_dv_perc  protein_g_dv_perc  dietary_fiber_g_dv_perc  \\\n",
       "0                   33.20               53.0                     7.50   \n",
       "1                    9.77               22.6                     9.64   \n",
       "2                   37.03               12.8                     1.43   \n",
       "3                   39.33               53.0                     3.93   \n",
       "4                   62.23               84.2                     2.14   \n",
       "\n",
       "   sodium_mg_dv_perc  calcium_mg_dv_perc  iron_mg_dv_perc  \\\n",
       "0              33.78               43.68            15.00   \n",
       "1              49.17                5.39            11.67   \n",
       "2              10.20                5.05             6.67   \n",
       "3              31.29                4.54            13.89   \n",
       "4              36.53               29.25            11.67   \n",
       "\n",
       "   magnesium_mg_dv_perc  potassium_mg_dv_perc  vitamin_a_iu_IU_dv_perc  \\\n",
       "0                 14.71                  8.09                    23.04   \n",
       "1                  5.74                 14.72                    10.41   \n",
       "2                  2.67                  2.46                     6.96   \n",
       "3                  8.43                  9.30                    12.37   \n",
       "4                 10.57                  8.27                    12.57   \n",
       "\n",
       "   niacin_equivalents_mg_dv_perc  vitamin_c_mg_dv_perc  folate_mcg_dv_perc  \\\n",
       "0                          63.12                  0.33               41.40   \n",
       "1                          46.88                  4.22                9.22   \n",
       "2                          14.37                  0.11               10.88   \n",
       "3                          56.25                  8.22                6.45   \n",
       "4                         118.12                  2.89                7.72   \n",
       "\n",
       "   thiamin_mg_dv_perc  calories_from_fat_dv_perc  recipe_length  \n",
       "0               58.33                      15.12             91  \n",
       "1                8.33                       7.47            147  \n",
       "2               16.67                       3.46             85  \n",
       "3               58.33                      11.43             56  \n",
       "4                8.33                      11.20            248  "
      ]
     },
     "execution_count": 12,
     "metadata": {},
     "output_type": "execute_result"
    }
   ],
   "source": [
    "# Now, let's look at the top 5 rows of the df:\n",
    "df.head()"
   ]
  },
  {
   "cell_type": "code",
   "execution_count": 7,
   "id": "6f4f1157-eb7d-4bd1-8feb-09061fef8b2d",
   "metadata": {},
   "outputs": [
    {
     "name": "stdout",
     "output_type": "stream",
     "text": [
      "Number of rows: 27099 \n",
      "Number of columns: 55\n"
     ]
    }
   ],
   "source": [
    "#now, let's look at the shape of df:\n",
    "shape = df.shape\n",
    "print(\"Number of rows:\", shape[0], \"\\nNumber of columns:\", shape[1])"
   ]
  },
  {
   "cell_type": "markdown",
   "id": "e6d3d82c-1081-4426-9c94-13c54345629e",
   "metadata": {},
   "source": [
    "## **Exploratory Data Analysis**<a id='Exploratory_Data_Analysis'></a>\n",
    "[Contents](#Contents)\n",
    "\n",
    "**Questions We Aim to Answer:**\n",
    "\n",
    "* What is the most popular recipe category (most repeated)?\n",
    "* What is the average number of reviews/ratings?\n",
    "* What is the average number of reviews/rating count per category?\n",
    "* What is the average number of reviews/rating count per diet type?\n",
    "* What is the distribution of reviews/ratings?\n",
    "* What is the distribution of recipe lengths (number of words in the directions) across all recipes?\n",
    "* What is the average recipe length for each recipe category?\n",
    "* What is the average recipe length for each diet type?\n",
    "* Is there a correlation between recipe length and the number of reviews?\n",
    "* Is there a correlation between recipe length and average ratings?\n",
    "* What are the top 10 longest recipes (based on recipe length)?\n",
    "* What are the top 10 shortest recipes (based on recipe length)?\n",
    "* Is there a relationship between recipe length and preparation time?\n",
    "* Is there a relationship between recipe length and cook time?\n",
    "* Is there a correlation between the number of ingredients and recipe length?\n",
    "* Is there a correlation between recipe length and the number of calories?\n",
    "* What is the average recipe length for different meal categories?\n",
    "* Is there a correlation between recipe length and the number of servings?\n",
    "* What is the average prep/cook/total time?\n",
    "* What are the top 10 most popular ingredients?\n",
    "\n",
    "By addressing these questions, we aim to gain a comprehensive understanding of the dataset, uncover significant trends and patterns, and prepare the data for developing an effective and user-friendly recipe recommendation system.\n"
   ]
  },
  {
   "cell_type": "markdown",
   "id": "051e09a7-6010-455f-aca1-15f3fc63c07e",
   "metadata": {},
   "source": [
    "### **Most Popular Recipe Category**<a id='Most_Popular_Recipe_Category'></a>\n",
    "[Contents](#Contents)\n",
    "\n"
   ]
  },
  {
   "cell_type": "code",
   "execution_count": 12,
   "id": "fcd75b7a-f665-423c-a6ed-7cd284d50bab",
   "metadata": {},
   "outputs": [
    {
     "data": {
      "image/png": "[encoded data removed]",
      "text/plain": [
       "<Figure size 1000x600 with 1 Axes>"
      ]
     },
     "metadata": {},
     "output_type": "display_data"
    }
   ],
   "source": [
    "def most_popular_category(df):\n",
    "    popular_category = df['category'].value_counts().head(10)\n",
    "    plt.figure(figsize=(10, 6))\n",
    "    ax = sns.barplot(x=popular_category.values, y=popular_category.index)\n",
    "    plt.xlabel('Number of Recipes')\n",
    "    plt.ylabel('Recipe Category')\n",
    "    plt.title('Top 10 Most Popular Recipe Categories')\n",
    "    \n",
    "    # Add grid lines:\n",
    "    plt.grid(axis='x', linestyle='--', alpha=0.7)\n",
    "    \n",
    "    # Add labels to the bars:\n",
    "    for i in ax.containers:\n",
    "        ax.bar_label(i, fmt='%d', label_type='edge', padding=2)\n",
    "        \n",
    "    # Adjust the layout to ensure labels fit within the frame\n",
    "    plt.tight_layout()    \n",
    "    plt.show()\n",
    "\n",
    "# Call the function:\n",
    "most_popular_category(df)\n"
   ]
  },
  {
   "cell_type": "markdown",
   "id": "a0176f1b-b9cb-42a6-9281-21f50f1d81cd",
   "metadata": {},
   "source": [
    "**Chart Highlights:**\n",
    "\n",
    "The chart showcases the top 10 most popular recipe categories based on the number of recipes. \"Appetizers-and-snacks\" leads with the highest count, followed by \"desserts\" and \"world-cuisine.\" The chart highlights the diversity and popularity of these categories, reflecting common culinary interests and preferences.\n"
   ]
  },
  {
   "cell_type": "markdown",
   "id": "60a1a40b-0efb-47c8-8799-0c8217963532",
   "metadata": {},
   "source": [
    "### **Average Number of Reviews/Ratings**<a id='Average_Number_of_Reviews_Ratings'></a>\n",
    "[Contents](#Contents)"
   ]
  },
  {
   "cell_type": "code",
   "execution_count": 22,
   "id": "a38e96f7-1fc9-4cd8-8b45-b5a53e6d7cb7",
   "metadata": {},
   "outputs": [
    {
     "data": {
      "image/png": "[encoded data removed]",
      "text/plain": [
       "<Figure size 1000x600 with 1 Axes>"
      ]
     },
     "metadata": {},
     "output_type": "display_data"
    }
   ],
   "source": [
    "def average_reviews_ratings(df):\n",
    "    avg_reviews = df['review_count'].mean()\n",
    "    avg_ratings = df['rating'].mean()\n",
    "    \n",
    "    # Data for plotting\n",
    "    averages = {'Average Reviews': avg_reviews, 'Average Ratings': avg_ratings}\n",
    "    \n",
    "    # Plotting\n",
    "    plt.figure(figsize=(10, 6))\n",
    "    sns.barplot(x=list(averages.values()), y=list(averages.keys()), palette='pastel', hue=list(averages.keys()), dodge=False)\n",
    "    plt.xlabel('Average Value')\n",
    "    plt.ylabel('Metric')\n",
    "    plt.title('Average Reviews and Ratings')\n",
    "    plt.grid(axis='x', linestyle='--', linewidth=0.7)\n",
    "    \n",
    "    # Adding the labels on top of the bars\n",
    "    for index, value in enumerate(averages.values()):\n",
    "        plt.text(value - (value * 0.1), index, f'{value:.2f}', va='center', ha='center', color='black', weight='bold')\n",
    "    \n",
    "    plt.legend([],[], frameon=False)  # Remove the legend\n",
    "    plt.show()\n",
    "\n",
    "# Call the function\n",
    "average_reviews_ratings(df)\n"
   ]
  },
  {
   "cell_type": "markdown",
   "id": "96795f69-5207-4f57-b792-6d16893b401d",
   "metadata": {},
   "source": [
    "**Chart Highlights:**\n",
    "* Average Reviews: The average number of reviews for the recipes is `112.04`, indicating that recipes generally receive a significant amount of feedback from users.\n",
    "* Average Ratings: The average rating across recipes is `4.07`, showing that the recipes are generally well-received by users.\n",
    "* The contrast between the average number of reviews and ratings highlights the engagement level, with more users contributing to reviews than giving ratings."
   ]
  },
  {
   "cell_type": "markdown",
   "id": "3f4413ae-8e05-4cd9-9a8e-def3ef74d098",
   "metadata": {},
   "source": [
    "### **Average Reviews/Rating Count per Category**<a id='Average_Reviews_Rating_Count_per_Category'></a>\n",
    "[Contents](#Contents)"
   ]
  },
  {
   "cell_type": "code",
   "execution_count": 29,
   "id": "b0a0a2c7-b077-42d7-9741-e0a41ff4426f",
   "metadata": {},
   "outputs": [
    {
     "data": {
      "image/png": "[encoded data removed]",
      "text/plain": [
       "<Figure size 1000x600 with 1 Axes>"
      ]
     },
     "metadata": {},
     "output_type": "display_data"
    }
   ],
   "source": [
    "def average_reviews_ratings_per_category(df):\n",
    "    avg_reviews_per_category = df.groupby('category')['review_count'].mean().sort_values(ascending=False).head(10)\n",
    "    \n",
    "    plt.figure(figsize=(10, 6))\n",
    "    sns.barplot(x=avg_reviews_per_category.values, y=avg_reviews_per_category.index, hue=avg_reviews_per_category.index, dodge=False, palette='deep')\n",
    "    \n",
    "    plt.xlabel('Average Number of Reviews')\n",
    "    plt.ylabel('Recipe Category')\n",
    "    plt.title('Top 10 Categories by Average Reviews')\n",
    "    plt.grid(axis='x', linestyle='--', linewidth=0.7)\n",
    "    \n",
    "    # Adding the labels on top of the bars\n",
    "    for index, value in enumerate(avg_reviews_per_category.values):\n",
    "        plt.text(value - (value * 0.1), index, f'{value:.2f}', va='center', ha='center', color='black', weight='bold')\n",
    "    \n",
    "    plt.legend([], [], frameon=False)  # Hide the legend\n",
    "    plt.show()\n",
    "\n",
    "# Call the function\n",
    "average_reviews_ratings_per_category(df)\n",
    "\n"
   ]
  },
  {
   "cell_type": "markdown",
   "id": "0efa8a57-4340-4aa5-9fe8-738dc0c6b34f",
   "metadata": {},
   "source": [
    "**Chart Highlights:**\n",
    "\n",
    "The chart showcases the top 10 recipe categories based on the average number of reviews. Here are some highlights:\n",
    "\n",
    "* Pasta and Noodles lead significantly with the highest average number of reviews, indicating strong popularity and engagement in this category.\n",
    "* Meat and Poultry and Desserts also have high average reviews, reflecting their broad appeal and frequent preparation.\n",
    "* Categories like Breakfast and Brunch, Fruits and Vegetables, and Drinks also feature prominently, suggesting diverse interest and frequent searches in these areas.\n",
    "* World Cuisine and Main Dish categories show considerable average reviews, pointing to a wide range of interests in global flavors and main course meals.\n",
    "* Soups, Stews, and Chili and Bread round out the top 10, highlighting substantial engagement in comfort foods and baking.\n",
    "\n",
    "This chart helps identify which types of recipes are most engaging to users based on review activity, providing valuable insights for content focus and recommendation strategies."
   ]
  },
  {
   "cell_type": "markdown",
   "id": "c69abb63-f756-4824-aa62-b3b5898e6e9b",
   "metadata": {},
   "source": [
    "### **Average Reviews/Rating Count per Diet Type**<a id='Average_Reviews_Rating_Count_per_Diet_Type'></a>\n",
    "[Contents](#Contents)"
   ]
  },
  {
   "cell_type": "code",
   "execution_count": 27,
   "id": "810f002a-37e9-4ccb-abac-67ace7cbb042",
   "metadata": {},
   "outputs": [
    {
     "data": {
      "image/png": "[encoded data removed]",
      "text/plain": [
       "<Figure size 1000x600 with 1 Axes>"
      ]
     },
     "metadata": {},
     "output_type": "display_data"
    }
   ],
   "source": [
    "def average_reviews_ratings_per_diet_type(df):\n",
    "    avg_reviews_per_diet_type = df.groupby('diet_type')['review_count'].mean().sort_values(ascending=False).head(10)\n",
    "    \n",
    "    plt.figure(figsize=(10, 6))\n",
    "    sns.barplot(x=avg_reviews_per_diet_type.values, y=avg_reviews_per_diet_type.index, palette='deep', hue=avg_reviews_per_diet_type.index, dodge=False, legend=False)\n",
    "    \n",
    "    plt.xlabel('Average Number of Reviews')\n",
    "    plt.ylabel('Diet Type')\n",
    "    plt.title('Top 10 Diet Types by Average Reviews')\n",
    "    plt.grid(axis='x', linestyle='--', linewidth=0.7)\n",
    "    \n",
    "    # Adding the labels on top of the bars\n",
    "    for index, value in enumerate(avg_reviews_per_diet_type.values):\n",
    "        plt.text(value - (value * 0.1), index, f'{value:.2f}', va='center', ha='center', color='black', weight='bold')\n",
    "    \n",
    "    plt.show()\n",
    "\n",
    "# Call the function\n",
    "average_reviews_ratings_per_diet_type(df)\n",
    "\n",
    "\n"
   ]
  },
  {
   "cell_type": "markdown",
   "id": "3a27504e-737f-4081-bfe5-04dcced6dcd7",
   "metadata": {},
   "source": [
    "**Chart Highlights:**\n",
    "\n",
    "* **Preference for Low Carb and High Protein Diets:** The most reviewed diet types prominently feature low carbohydrate and high protein content. This suggests that users are highly interested in recipes that align with low-carb and high-protein dietary preferences, potentially driven by popular diet trends like keto and Atkins.\n",
    "\n",
    "* **Combination Diets Gain Popularity:** Diets combining multiple health aspects, such as \"Low Carb, Low Fat, High Protein,\" are notably popular. This indicates a growing interest in recipes that balance multiple nutritional factors, catering to users seeking comprehensive health benefits.\n",
    "\n",
    "* **General Recipes Still Favored:** Despite the popularity of specialized diets, the \"General\" category maintains a strong average review count. This shows that while users are exploring specific dietary needs, there is still significant interest in versatile recipes that cater to a broader audience.\n",
    "\n",
    "* **Health-Conscious Choices:** Diet types focused on reducing fat, sugar, and sodium intake, such as \"Low Fat\" and \"Low Sodium,\" are well-reviewed. This trend underscores an increasing awareness and preference for health-conscious eating habits among users.\n",
    "\n",
    "* **Diverse Nutritional Needs:** The variety of diet types in the top 10 list highlights the diverse nutritional needs and interests of the user base. This diversity reflects a market demand for a wide range of recipe options that cater to specific dietary goals and restrictions.\n",
    "\n",
    "Overall, the high review averages for these diet types suggest that users are actively seeking and engaging with recipes that support specific health and nutritional objectives. This insight can inform future recipe development and content curation to better meet the evolving preferences of health-conscious consumers.\n",
    "\n",
    "\n",
    "\n",
    "\n",
    "\n",
    "\n"
   ]
  },
  {
   "cell_type": "markdown",
   "id": "ec55303a-6bc7-44a4-9c95-f9fe4708f453",
   "metadata": {
    "tags": []
   },
   "source": [
    "### **Distribution of Reviews/Ratings**<a id=''></a>\n",
    "[Contents](#Contents)"
   ]
  },
  {
   "cell_type": "code",
   "execution_count": 32,
   "id": "ab93702e-8a8b-4791-992c-94ccd0de4a22",
   "metadata": {
    "tags": []
   },
   "outputs": [
    {
     "name": "stderr",
     "output_type": "stream",
     "text": [
      "C:\\Users\\ytezc\\anaconda3\\Lib\\site-packages\\seaborn\\_oldcore.py:1119: FutureWarning: use_inf_as_na option is deprecated and will be removed in a future version. Convert inf values to NaN before operating instead.\n",
      "  with pd.option_context('mode.use_inf_as_na', True):\n"
     ]
    },
    {
     "data": {
      "image/png": "[encoded data removed]",
      "text/plain": [
       "<Figure size 1000x600 with 1 Axes>"
      ]
     },
     "metadata": {},
     "output_type": "display_data"
    }
   ],
   "source": [
    "# Plot the distribution of ratings\n",
    "plt.figure(figsize=(10, 6))\n",
    "sns.histplot(df['rating'], bins=30, kde=True)\n",
    "plt.title('Distribution of Ratings')\n",
    "plt.xlabel('Rating')\n",
    "plt.ylabel('Frequency')\n",
    "plt.show()"
   ]
  },
  {
   "cell_type": "markdown",
   "id": "545d1e1e-6eb5-4d73-af63-1b99ddd0bfe7",
   "metadata": {},
   "source": [
    "**Distribution of Ratings:** This histogram shows the frequency of different rating values. The ratings appear to be concentrated towards the higher end of the scale, indicating that most recipes receive high ratings."
   ]
  },
  {
   "cell_type": "markdown",
   "id": "aac24896-2680-4662-b62d-cf73d2ace863",
   "metadata": {},
   "source": [
    "### **Distribution of Recipe Lengths (Number of Words in the Directions)**<a id=''></a>\n",
    "[Contents](#Contents)"
   ]
  },
  {
   "cell_type": "code",
   "execution_count": 52,
   "id": "9fef0d1d-9944-45e6-bae4-184d53f99ccc",
   "metadata": {
    "tags": []
   },
   "outputs": [
    {
     "name": "stderr",
     "output_type": "stream",
     "text": [
      "C:\\Users\\ytezc\\anaconda3\\Lib\\site-packages\\seaborn\\_oldcore.py:1119: FutureWarning: use_inf_as_na option is deprecated and will be removed in a future version. Convert inf values to NaN before operating instead.\n",
      "  with pd.option_context('mode.use_inf_as_na', True):\n"
     ]
    },
    {
     "data": {
      "image/png": "[encoded data removed]",
      "text/plain": [
       "<Figure size 1000x600 with 1 Axes>"
      ]
     },
     "metadata": {},
     "output_type": "display_data"
    }
   ],
   "source": [
    "# Calculate the length of the directions for each recipe\n",
    "df['recipe_length'] = df['directions'].apply(lambda x: len(str(x).split()))\n",
    "\n",
    "# Plot the distribution of recipe lengths\n",
    "plt.figure(figsize=(10, 6))\n",
    "sns.histplot(df['recipe_length'], bins=30, kde=True)\n",
    "plt.title('Distribution of Recipe Lengths')\n",
    "plt.xlabel('Number of Words in Directions')\n",
    "plt.ylabel('Frequency')\n",
    "plt.show()"
   ]
  },
  {
   "cell_type": "markdown",
   "id": "4713005e-f6e8-4c43-a1df-9af4ceab5e50",
   "metadata": {},
   "source": [
    "The distribution appears to be right-skewed, indicating that most recipes have a relatively moderate length in their directions, while a few have very lengthy directions."
   ]
  },
  {
   "cell_type": "markdown",
   "id": "35d51f23-adca-4e0f-9249-69897396c005",
   "metadata": {},
   "source": [
    "### **Average Recipe Length for Each Recipe Category**<a id=''></a>\n",
    "[Contents](#Contents)"
   ]
  },
  {
   "cell_type": "code",
   "execution_count": 68,
   "id": "9176353c-7091-470f-b0ed-1d79610b302b",
   "metadata": {
    "tags": []
   },
   "outputs": [
    {
     "data": {
      "text/html": [
       "<div>\n",
       "<style scoped>\n",
       "    .dataframe tbody tr th:only-of-type {\n",
       "        vertical-align: middle;\n",
       "    }\n",
       "\n",
       "    .dataframe tbody tr th {\n",
       "        vertical-align: top;\n",
       "    }\n",
       "\n",
       "    .dataframe thead th {\n",
       "        text-align: right;\n",
       "    }\n",
       "</style>\n",
       "<table border=\"1\" class=\"dataframe\">\n",
       "  <thead>\n",
       "    <tr style=\"text-align: right;\">\n",
       "      <th></th>\n",
       "      <th>category</th>\n",
       "      <th>recipe_length</th>\n",
       "    </tr>\n",
       "  </thead>\n",
       "  <tbody>\n",
       "    <tr>\n",
       "      <th>0</th>\n",
       "      <td>holidays-and-events</td>\n",
       "      <td>219.125000</td>\n",
       "    </tr>\n",
       "    <tr>\n",
       "      <th>1</th>\n",
       "      <td>bbq-grilling</td>\n",
       "      <td>178.000000</td>\n",
       "    </tr>\n",
       "    <tr>\n",
       "      <th>2</th>\n",
       "      <td>world-cuisine</td>\n",
       "      <td>139.358377</td>\n",
       "    </tr>\n",
       "    <tr>\n",
       "      <th>3</th>\n",
       "      <td>bread</td>\n",
       "      <td>138.386437</td>\n",
       "    </tr>\n",
       "    <tr>\n",
       "      <th>4</th>\n",
       "      <td>desserts</td>\n",
       "      <td>132.069123</td>\n",
       "    </tr>\n",
       "    <tr>\n",
       "      <th>5</th>\n",
       "      <td>meat-and-poultry</td>\n",
       "      <td>125.732183</td>\n",
       "    </tr>\n",
       "    <tr>\n",
       "      <th>6</th>\n",
       "      <td>main-dish</td>\n",
       "      <td>120.500737</td>\n",
       "    </tr>\n",
       "    <tr>\n",
       "      <th>7</th>\n",
       "      <td>pasta-and-noodles</td>\n",
       "      <td>118.766990</td>\n",
       "    </tr>\n",
       "    <tr>\n",
       "      <th>8</th>\n",
       "      <td>fruits-and-vegetables</td>\n",
       "      <td>117.910931</td>\n",
       "    </tr>\n",
       "    <tr>\n",
       "      <th>9</th>\n",
       "      <td>trusted-brands-recipes-and-tips</td>\n",
       "      <td>113.595867</td>\n",
       "    </tr>\n",
       "    <tr>\n",
       "      <th>10</th>\n",
       "      <td>soups-stews-and-chili</td>\n",
       "      <td>110.993297</td>\n",
       "    </tr>\n",
       "    <tr>\n",
       "      <th>11</th>\n",
       "      <td>breakfast-and-brunch</td>\n",
       "      <td>110.515665</td>\n",
       "    </tr>\n",
       "    <tr>\n",
       "      <th>12</th>\n",
       "      <td>seafood</td>\n",
       "      <td>108.504341</td>\n",
       "    </tr>\n",
       "    <tr>\n",
       "      <th>13</th>\n",
       "      <td>everyday-cooking</td>\n",
       "      <td>108.078431</td>\n",
       "    </tr>\n",
       "    <tr>\n",
       "      <th>14</th>\n",
       "      <td>appetizers-and-snacks</td>\n",
       "      <td>106.312763</td>\n",
       "    </tr>\n",
       "    <tr>\n",
       "      <th>15</th>\n",
       "      <td>salad</td>\n",
       "      <td>95.866899</td>\n",
       "    </tr>\n",
       "    <tr>\n",
       "      <th>16</th>\n",
       "      <td>side-dish</td>\n",
       "      <td>92.516771</td>\n",
       "    </tr>\n",
       "    <tr>\n",
       "      <th>17</th>\n",
       "      <td>drinks</td>\n",
       "      <td>62.162500</td>\n",
       "    </tr>\n",
       "  </tbody>\n",
       "</table>\n",
       "</div>"
      ],
      "text/plain": [
       "                           category  recipe_length\n",
       "0               holidays-and-events     219.125000\n",
       "1                      bbq-grilling     178.000000\n",
       "2                     world-cuisine     139.358377\n",
       "3                             bread     138.386437\n",
       "4                          desserts     132.069123\n",
       "5                  meat-and-poultry     125.732183\n",
       "6                         main-dish     120.500737\n",
       "7                 pasta-and-noodles     118.766990\n",
       "8             fruits-and-vegetables     117.910931\n",
       "9   trusted-brands-recipes-and-tips     113.595867\n",
       "10            soups-stews-and-chili     110.993297\n",
       "11             breakfast-and-brunch     110.515665\n",
       "12                          seafood     108.504341\n",
       "13                 everyday-cooking     108.078431\n",
       "14            appetizers-and-snacks     106.312763\n",
       "15                            salad      95.866899\n",
       "16                        side-dish      92.516771\n",
       "17                           drinks      62.162500"
      ]
     },
     "execution_count": 68,
     "metadata": {},
     "output_type": "execute_result"
    }
   ],
   "source": [
    "# Calculate the average recipe length for each category\n",
    "average_recipe_length_by_category = df.groupby('category')['recipe_length'].mean().reset_index()\n",
    "\n",
    "# Order the average recipe length by descending\n",
    "average_recipe_length_by_category = average_recipe_length_by_category.sort_values(by='recipe_length', ascending=False).reset_index(drop=True)\n",
    "\n",
    "average_recipe_length_by_category"
   ]
  },
  {
   "cell_type": "markdown",
   "id": "298366b6-6c07-4192-ae0e-27a9e5a2de41",
   "metadata": {},
   "source": [
    "Holiday and Events category contain, on average, the longest recipes while Drinks are the shortest."
   ]
  },
  {
   "cell_type": "markdown",
   "id": "a30d612f-a70e-4caa-9cef-ce99d5c449b1",
   "metadata": {},
   "source": [
    "### **Average Recipe Length for Each Diet Type**<a id=''></a>\n",
    "[Contents](#Contents)"
   ]
  },
  {
   "cell_type": "code",
   "execution_count": 66,
   "id": "45af50c0-eac1-4dbc-8c75-345768d27c35",
   "metadata": {
    "tags": []
   },
   "outputs": [
    {
     "data": {
      "text/html": [
       "<div>\n",
       "<style scoped>\n",
       "    .dataframe tbody tr th:only-of-type {\n",
       "        vertical-align: middle;\n",
       "    }\n",
       "\n",
       "    .dataframe tbody tr th {\n",
       "        vertical-align: top;\n",
       "    }\n",
       "\n",
       "    .dataframe thead th {\n",
       "        text-align: right;\n",
       "    }\n",
       "</style>\n",
       "<table border=\"1\" class=\"dataframe\">\n",
       "  <thead>\n",
       "    <tr style=\"text-align: right;\">\n",
       "      <th></th>\n",
       "      <th>diet_type</th>\n",
       "      <th>recipe_length</th>\n",
       "    </tr>\n",
       "  </thead>\n",
       "  <tbody>\n",
       "    <tr>\n",
       "      <th>0</th>\n",
       "      <td>High Protein</td>\n",
       "      <td>136.187546</td>\n",
       "    </tr>\n",
       "    <tr>\n",
       "      <th>1</th>\n",
       "      <td>General</td>\n",
       "      <td>134.106090</td>\n",
       "    </tr>\n",
       "    <tr>\n",
       "      <th>2</th>\n",
       "      <td>High Protein, Low Sugar</td>\n",
       "      <td>132.368024</td>\n",
       "    </tr>\n",
       "    <tr>\n",
       "      <th>3</th>\n",
       "      <td>Low Sodium</td>\n",
       "      <td>126.598519</td>\n",
       "    </tr>\n",
       "    <tr>\n",
       "      <th>4</th>\n",
       "      <td>High Protein, Low Sodium, Low Sugar</td>\n",
       "      <td>121.567568</td>\n",
       "    </tr>\n",
       "    <tr>\n",
       "      <th>5</th>\n",
       "      <td>Low Carb, High Protein</td>\n",
       "      <td>121.000000</td>\n",
       "    </tr>\n",
       "    <tr>\n",
       "      <th>6</th>\n",
       "      <td>Low Sugar</td>\n",
       "      <td>117.277115</td>\n",
       "    </tr>\n",
       "    <tr>\n",
       "      <th>7</th>\n",
       "      <td>Low Fat, Low Sugar</td>\n",
       "      <td>116.349231</td>\n",
       "    </tr>\n",
       "    <tr>\n",
       "      <th>8</th>\n",
       "      <td>Low Carb, High Protein, Low Sugar</td>\n",
       "      <td>114.136795</td>\n",
       "    </tr>\n",
       "    <tr>\n",
       "      <th>9</th>\n",
       "      <td>Low Carb, High Protein, Low Sodium</td>\n",
       "      <td>113.933333</td>\n",
       "    </tr>\n",
       "    <tr>\n",
       "      <th>10</th>\n",
       "      <td>Low Fat, High Protein</td>\n",
       "      <td>112.787879</td>\n",
       "    </tr>\n",
       "    <tr>\n",
       "      <th>11</th>\n",
       "      <td>Low Fat, Low Sodium, Low Sugar</td>\n",
       "      <td>112.504167</td>\n",
       "    </tr>\n",
       "    <tr>\n",
       "      <th>12</th>\n",
       "      <td>Low Carb, Low Sodium</td>\n",
       "      <td>112.265060</td>\n",
       "    </tr>\n",
       "    <tr>\n",
       "      <th>13</th>\n",
       "      <td>Low Fat</td>\n",
       "      <td>111.803684</td>\n",
       "    </tr>\n",
       "    <tr>\n",
       "      <th>14</th>\n",
       "      <td>High Protein, Low Sodium</td>\n",
       "      <td>111.444444</td>\n",
       "    </tr>\n",
       "    <tr>\n",
       "      <th>15</th>\n",
       "      <td>Low Fat, High Protein, Low Sugar</td>\n",
       "      <td>109.685185</td>\n",
       "    </tr>\n",
       "    <tr>\n",
       "      <th>16</th>\n",
       "      <td>Low Fat, Low Sodium</td>\n",
       "      <td>109.127540</td>\n",
       "    </tr>\n",
       "    <tr>\n",
       "      <th>17</th>\n",
       "      <td>Low Carb, Low Fat, High Protein, Low Sodium</td>\n",
       "      <td>107.153846</td>\n",
       "    </tr>\n",
       "    <tr>\n",
       "      <th>18</th>\n",
       "      <td>Low Carb, High Protein, Low Sodium, Low Sugar</td>\n",
       "      <td>106.758621</td>\n",
       "    </tr>\n",
       "    <tr>\n",
       "      <th>19</th>\n",
       "      <td>Low Carb</td>\n",
       "      <td>106.367347</td>\n",
       "    </tr>\n",
       "    <tr>\n",
       "      <th>20</th>\n",
       "      <td>Low Carb, Low Fat, Low Sodium</td>\n",
       "      <td>105.285350</td>\n",
       "    </tr>\n",
       "    <tr>\n",
       "      <th>21</th>\n",
       "      <td>Low Sodium, Low Sugar</td>\n",
       "      <td>103.919708</td>\n",
       "    </tr>\n",
       "    <tr>\n",
       "      <th>22</th>\n",
       "      <td>Low Fat, High Protein, Low Sodium, Low Sugar</td>\n",
       "      <td>103.857143</td>\n",
       "    </tr>\n",
       "    <tr>\n",
       "      <th>23</th>\n",
       "      <td>Low Carb, Low Sugar</td>\n",
       "      <td>102.663576</td>\n",
       "    </tr>\n",
       "    <tr>\n",
       "      <th>24</th>\n",
       "      <td>Low Carb, Low Fat, High Protein</td>\n",
       "      <td>102.265734</td>\n",
       "    </tr>\n",
       "    <tr>\n",
       "      <th>25</th>\n",
       "      <td>Low Carb, Low Sodium, Low Sugar</td>\n",
       "      <td>101.370909</td>\n",
       "    </tr>\n",
       "    <tr>\n",
       "      <th>26</th>\n",
       "      <td>Low Carb, Low Fat, Low Sodium, Low Sugar</td>\n",
       "      <td>100.355641</td>\n",
       "    </tr>\n",
       "    <tr>\n",
       "      <th>27</th>\n",
       "      <td>Low Carb, Low Fat, Low Sugar</td>\n",
       "      <td>99.778212</td>\n",
       "    </tr>\n",
       "    <tr>\n",
       "      <th>28</th>\n",
       "      <td>Low Carb, Low Fat, High Protein, Low Sugar</td>\n",
       "      <td>98.714286</td>\n",
       "    </tr>\n",
       "    <tr>\n",
       "      <th>29</th>\n",
       "      <td>Low Fat, High Protein, Low Sodium</td>\n",
       "      <td>95.411765</td>\n",
       "    </tr>\n",
       "    <tr>\n",
       "      <th>30</th>\n",
       "      <td>Low Carb, Low Fat, High Protein, Low Sodium, L...</td>\n",
       "      <td>93.673077</td>\n",
       "    </tr>\n",
       "    <tr>\n",
       "      <th>31</th>\n",
       "      <td>Low Carb, Low Fat</td>\n",
       "      <td>93.021611</td>\n",
       "    </tr>\n",
       "  </tbody>\n",
       "</table>\n",
       "</div>"
      ],
      "text/plain": [
       "                                            diet_type  recipe_length\n",
       "0                                        High Protein     136.187546\n",
       "1                                             General     134.106090\n",
       "2                             High Protein, Low Sugar     132.368024\n",
       "3                                          Low Sodium     126.598519\n",
       "4                 High Protein, Low Sodium, Low Sugar     121.567568\n",
       "5                              Low Carb, High Protein     121.000000\n",
       "6                                           Low Sugar     117.277115\n",
       "7                                  Low Fat, Low Sugar     116.349231\n",
       "8                   Low Carb, High Protein, Low Sugar     114.136795\n",
       "9                  Low Carb, High Protein, Low Sodium     113.933333\n",
       "10                              Low Fat, High Protein     112.787879\n",
       "11                     Low Fat, Low Sodium, Low Sugar     112.504167\n",
       "12                               Low Carb, Low Sodium     112.265060\n",
       "13                                            Low Fat     111.803684\n",
       "14                           High Protein, Low Sodium     111.444444\n",
       "15                   Low Fat, High Protein, Low Sugar     109.685185\n",
       "16                                Low Fat, Low Sodium     109.127540\n",
       "17        Low Carb, Low Fat, High Protein, Low Sodium     107.153846\n",
       "18      Low Carb, High Protein, Low Sodium, Low Sugar     106.758621\n",
       "19                                           Low Carb     106.367347\n",
       "20                      Low Carb, Low Fat, Low Sodium     105.285350\n",
       "21                              Low Sodium, Low Sugar     103.919708\n",
       "22       Low Fat, High Protein, Low Sodium, Low Sugar     103.857143\n",
       "23                                Low Carb, Low Sugar     102.663576\n",
       "24                    Low Carb, Low Fat, High Protein     102.265734\n",
       "25                    Low Carb, Low Sodium, Low Sugar     101.370909\n",
       "26           Low Carb, Low Fat, Low Sodium, Low Sugar     100.355641\n",
       "27                       Low Carb, Low Fat, Low Sugar      99.778212\n",
       "28         Low Carb, Low Fat, High Protein, Low Sugar      98.714286\n",
       "29                  Low Fat, High Protein, Low Sodium      95.411765\n",
       "30  Low Carb, Low Fat, High Protein, Low Sodium, L...      93.673077\n",
       "31                                  Low Carb, Low Fat      93.021611"
      ]
     },
     "execution_count": 66,
     "metadata": {},
     "output_type": "execute_result"
    }
   ],
   "source": [
    "# Calculate the average recipe length for each diet type\n",
    "average_recipe_length_by_diet_type = df.groupby('diet_type')['recipe_length'].mean().reset_index()\n",
    "\n",
    "# Order the average recipe length by descending\n",
    "average_recipe_length_by_diet_type = average_recipe_length_by_diet_type.sort_values(by='recipe_length', ascending=False).reset_index(drop=True)\n",
    "\n",
    "average_recipe_length_by_diet_type"
   ]
  },
  {
   "cell_type": "markdown",
   "id": "975048df-8ed8-4fa8-8246-86705aa73f68",
   "metadata": {},
   "source": []
  },
  {
   "cell_type": "markdown",
   "id": "8ac04b7f-12e2-42ed-aa6c-03919720b8ca",
   "metadata": {},
   "source": [
    "### **Correlation between Recipe Length and the Number of Reviews**<a id=''></a>\n",
    "[Contents](#Contents)"
   ]
  },
  {
   "cell_type": "code",
   "execution_count": 70,
   "id": "62c42b63-0501-45dc-a67d-26a5eebc8f2c",
   "metadata": {
    "tags": []
   },
   "outputs": [
    {
     "data": {
      "text/plain": [
       "-0.05851714237804311"
      ]
     },
     "execution_count": 70,
     "metadata": {},
     "output_type": "execute_result"
    }
   ],
   "source": [
    "# Calculate the correlation between recipe length and the number of reviews\n",
    "correlation = df['recipe_length'].corr(df['review_count'])\n",
    "\n",
    "correlation"
   ]
  },
  {
   "cell_type": "markdown",
   "id": "f088fdc2-097f-412b-80bf-57bdf75bdfa1",
   "metadata": {},
   "source": [
    "The correlation coefficient between recipe length and the number of reviews is approximately -0.059. This indicates a very weak negative correlation, suggesting that there is essentially no significant relationship between the length of a recipe and the number of reviews it receives."
   ]
  },
  {
   "cell_type": "markdown",
   "id": "91d615fa-bd61-404a-a004-2d68d32c0da8",
   "metadata": {},
   "source": [
    "### **Correlation between Recipe Length and Average Ratings**<a id=''></a>\n",
    "[Contents](#Contents)"
   ]
  },
  {
   "cell_type": "code",
   "execution_count": 73,
   "id": "e464afdc-aef5-458f-bb39-4998d3ce1186",
   "metadata": {
    "tags": []
   },
   "outputs": [
    {
     "data": {
      "text/plain": [
       "-0.0436779502892629"
      ]
     },
     "execution_count": 73,
     "metadata": {},
     "output_type": "execute_result"
    }
   ],
   "source": [
    "# Calculate the correlation between recipe length and average ratings\n",
    "correlation_length_rating = df['recipe_length'].corr(df['rating'])\n",
    "\n",
    "correlation_length_rating"
   ]
  },
  {
   "cell_type": "markdown",
   "id": "ca155d3c-4942-4e25-9567-e35afe4c578c",
   "metadata": {
    "tags": []
   },
   "source": [
    "The correlation coefficient between recipe length and average ratings is approximately -0.044. This indicates a very weak negative correlation, suggesting that there is essentially no significant relationship between the length of a recipe and its average rating."
   ]
  },
  {
   "cell_type": "markdown",
   "id": "9bee4c4b-58f0-487d-8dcc-701abfd02fad",
   "metadata": {},
   "source": [
    "### **Top 10 Longest Recipes (based on Recipe Length)**<a id=''></a>\n",
    "[Contents](#Contents)"
   ]
  },
  {
   "cell_type": "code",
   "execution_count": 78,
   "id": "fe8cf413-8d40-4739-bc9e-9d128ed38707",
   "metadata": {
    "tags": []
   },
   "outputs": [
    {
     "data": {
      "text/html": [
       "<div>\n",
       "<style scoped>\n",
       "    .dataframe tbody tr th:only-of-type {\n",
       "        vertical-align: middle;\n",
       "    }\n",
       "\n",
       "    .dataframe tbody tr th {\n",
       "        vertical-align: top;\n",
       "    }\n",
       "\n",
       "    .dataframe thead th {\n",
       "        text-align: right;\n",
       "    }\n",
       "</style>\n",
       "<table border=\"1\" class=\"dataframe\">\n",
       "  <thead>\n",
       "    <tr style=\"text-align: right;\">\n",
       "      <th></th>\n",
       "      <th>name</th>\n",
       "      <th>recipe_length</th>\n",
       "      <th>category</th>\n",
       "      <th>rating</th>\n",
       "      <th>review_count</th>\n",
       "    </tr>\n",
       "  </thead>\n",
       "  <tbody>\n",
       "    <tr>\n",
       "      <th>10894</th>\n",
       "      <td>Traditional Layered French Croissants</td>\n",
       "      <td>723</td>\n",
       "      <td>bread</td>\n",
       "      <td>4.39</td>\n",
       "      <td>29</td>\n",
       "    </tr>\n",
       "    <tr>\n",
       "      <th>13968</th>\n",
       "      <td>Triple Chocolate Roll Cake</td>\n",
       "      <td>720</td>\n",
       "      <td>desserts</td>\n",
       "      <td>4.71</td>\n",
       "      <td>4</td>\n",
       "    </tr>\n",
       "    <tr>\n",
       "      <th>25872</th>\n",
       "      <td>Game Day Victory Dessert Board</td>\n",
       "      <td>659</td>\n",
       "      <td>appetizers-and-snacks</td>\n",
       "      <td>3.00</td>\n",
       "      <td>0</td>\n",
       "    </tr>\n",
       "    <tr>\n",
       "      <th>13486</th>\n",
       "      <td>American Flag Cake</td>\n",
       "      <td>658</td>\n",
       "      <td>desserts</td>\n",
       "      <td>4.17</td>\n",
       "      <td>55</td>\n",
       "    </tr>\n",
       "    <tr>\n",
       "      <th>11206</th>\n",
       "      <td>Doberge Cake</td>\n",
       "      <td>654</td>\n",
       "      <td>desserts</td>\n",
       "      <td>4.41</td>\n",
       "      <td>27</td>\n",
       "    </tr>\n",
       "    <tr>\n",
       "      <th>3730</th>\n",
       "      <td>Chef John's Chocolate Croissants</td>\n",
       "      <td>638</td>\n",
       "      <td>bread</td>\n",
       "      <td>4.84</td>\n",
       "      <td>9</td>\n",
       "    </tr>\n",
       "    <tr>\n",
       "      <th>21922</th>\n",
       "      <td>Tacros (Croissant Tacos)</td>\n",
       "      <td>631</td>\n",
       "      <td>bread</td>\n",
       "      <td>5.00</td>\n",
       "      <td>1</td>\n",
       "    </tr>\n",
       "    <tr>\n",
       "      <th>10983</th>\n",
       "      <td>Chef John's Croissants</td>\n",
       "      <td>629</td>\n",
       "      <td>bread</td>\n",
       "      <td>4.46</td>\n",
       "      <td>25</td>\n",
       "    </tr>\n",
       "    <tr>\n",
       "      <th>3264</th>\n",
       "      <td>Sfogliatelle Ricce</td>\n",
       "      <td>593</td>\n",
       "      <td>world-cuisine</td>\n",
       "      <td>4.08</td>\n",
       "      <td>11</td>\n",
       "    </tr>\n",
       "    <tr>\n",
       "      <th>21671</th>\n",
       "      <td>Coconut-Rum Cake with Lemon Curd and White Cho...</td>\n",
       "      <td>557</td>\n",
       "      <td>desserts</td>\n",
       "      <td>0.00</td>\n",
       "      <td>0</td>\n",
       "    </tr>\n",
       "  </tbody>\n",
       "</table>\n",
       "</div>"
      ],
      "text/plain": [
       "                                                    name  recipe_length  \\\n",
       "10894              Traditional Layered French Croissants            723   \n",
       "13968                         Triple Chocolate Roll Cake            720   \n",
       "25872                     Game Day Victory Dessert Board            659   \n",
       "13486                                 American Flag Cake            658   \n",
       "11206                                       Doberge Cake            654   \n",
       "3730                    Chef John's Chocolate Croissants            638   \n",
       "21922                           Tacros (Croissant Tacos)            631   \n",
       "10983                             Chef John's Croissants            629   \n",
       "3264                                  Sfogliatelle Ricce            593   \n",
       "21671  Coconut-Rum Cake with Lemon Curd and White Cho...            557   \n",
       "\n",
       "                    category  rating  review_count  \n",
       "10894                  bread    4.39            29  \n",
       "13968               desserts    4.71             4  \n",
       "25872  appetizers-and-snacks    3.00             0  \n",
       "13486               desserts    4.17            55  \n",
       "11206               desserts    4.41            27  \n",
       "3730                   bread    4.84             9  \n",
       "21922                  bread    5.00             1  \n",
       "10983                  bread    4.46            25  \n",
       "3264           world-cuisine    4.08            11  \n",
       "21671               desserts    0.00             0  "
      ]
     },
     "execution_count": 78,
     "metadata": {},
     "output_type": "execute_result"
    }
   ],
   "source": [
    "# Get the top 10 longest recipes based on recipe length\n",
    "top_10_longest_recipes = df.nlargest(10, 'recipe_length')[['name', 'recipe_length', 'category', 'rating', 'review_count']]\n",
    "\n",
    "top_10_longest_recipes"
   ]
  },
  {
   "cell_type": "code",
   "execution_count": null,
   "id": "6fcf464b-0320-49c9-818f-f8d7f2f3bd08",
   "metadata": {},
   "outputs": [],
   "source": []
  },
  {
   "cell_type": "markdown",
   "id": "14e7e15f-fcda-4e16-9914-3b9582d86f71",
   "metadata": {},
   "source": [
    "### **Top 10 Shortest Recipes (based on Recipe Length)**<a id=''></a>\n",
    "[Contents](#Contents)"
   ]
  },
  {
   "cell_type": "code",
   "execution_count": 80,
   "id": "3678584d-83ec-4c3d-88c6-3a90a60bec82",
   "metadata": {
    "tags": []
   },
   "outputs": [
    {
     "data": {
      "text/html": [
       "<div>\n",
       "<style scoped>\n",
       "    .dataframe tbody tr th:only-of-type {\n",
       "        vertical-align: middle;\n",
       "    }\n",
       "\n",
       "    .dataframe tbody tr th {\n",
       "        vertical-align: top;\n",
       "    }\n",
       "\n",
       "    .dataframe thead th {\n",
       "        text-align: right;\n",
       "    }\n",
       "</style>\n",
       "<table border=\"1\" class=\"dataframe\">\n",
       "  <thead>\n",
       "    <tr style=\"text-align: right;\">\n",
       "      <th></th>\n",
       "      <th>name</th>\n",
       "      <th>recipe_length</th>\n",
       "      <th>category</th>\n",
       "      <th>rating</th>\n",
       "      <th>review_count</th>\n",
       "    </tr>\n",
       "  </thead>\n",
       "  <tbody>\n",
       "    <tr>\n",
       "      <th>1741</th>\n",
       "      <td>Mocha Coffee</td>\n",
       "      <td>12</td>\n",
       "      <td>drinks</td>\n",
       "      <td>4.26</td>\n",
       "      <td>168</td>\n",
       "    </tr>\n",
       "    <tr>\n",
       "      <th>3552</th>\n",
       "      <td>Portuguese Sweet Bread I</td>\n",
       "      <td>12</td>\n",
       "      <td>bread</td>\n",
       "      <td>4.71</td>\n",
       "      <td>459</td>\n",
       "    </tr>\n",
       "    <tr>\n",
       "      <th>22272</th>\n",
       "      <td>Sourdough Wheat Bread</td>\n",
       "      <td>12</td>\n",
       "      <td>bread</td>\n",
       "      <td>3.75</td>\n",
       "      <td>17</td>\n",
       "    </tr>\n",
       "    <tr>\n",
       "      <th>20065</th>\n",
       "      <td>Ron's Bread Machine White</td>\n",
       "      <td>14</td>\n",
       "      <td>bread</td>\n",
       "      <td>4.62</td>\n",
       "      <td>230</td>\n",
       "    </tr>\n",
       "    <tr>\n",
       "      <th>3226</th>\n",
       "      <td>Plain and Simple Sourdough Bread</td>\n",
       "      <td>16</td>\n",
       "      <td>bread</td>\n",
       "      <td>4.62</td>\n",
       "      <td>179</td>\n",
       "    </tr>\n",
       "    <tr>\n",
       "      <th>5053</th>\n",
       "      <td>Light Oat Bread</td>\n",
       "      <td>16</td>\n",
       "      <td>bread</td>\n",
       "      <td>4.74</td>\n",
       "      <td>689</td>\n",
       "    </tr>\n",
       "    <tr>\n",
       "      <th>13231</th>\n",
       "      <td>Jalapeno Bread I</td>\n",
       "      <td>16</td>\n",
       "      <td>bread</td>\n",
       "      <td>4.39</td>\n",
       "      <td>79</td>\n",
       "    </tr>\n",
       "    <tr>\n",
       "      <th>13281</th>\n",
       "      <td>Basic Rye Bread</td>\n",
       "      <td>16</td>\n",
       "      <td>bread</td>\n",
       "      <td>4.37</td>\n",
       "      <td>37</td>\n",
       "    </tr>\n",
       "    <tr>\n",
       "      <th>15152</th>\n",
       "      <td>Bourbon Cream Cheese Frosting</td>\n",
       "      <td>16</td>\n",
       "      <td>desserts</td>\n",
       "      <td>4.67</td>\n",
       "      <td>59</td>\n",
       "    </tr>\n",
       "    <tr>\n",
       "      <th>20315</th>\n",
       "      <td>Sweet Honey French Bread</td>\n",
       "      <td>17</td>\n",
       "      <td>bread</td>\n",
       "      <td>4.45</td>\n",
       "      <td>133</td>\n",
       "    </tr>\n",
       "  </tbody>\n",
       "</table>\n",
       "</div>"
      ],
      "text/plain": [
       "                                   name  recipe_length  category  rating  \\\n",
       "1741                       Mocha Coffee             12    drinks    4.26   \n",
       "3552           Portuguese Sweet Bread I             12     bread    4.71   \n",
       "22272             Sourdough Wheat Bread             12     bread    3.75   \n",
       "20065         Ron's Bread Machine White             14     bread    4.62   \n",
       "3226   Plain and Simple Sourdough Bread             16     bread    4.62   \n",
       "5053                    Light Oat Bread             16     bread    4.74   \n",
       "13231                  Jalapeno Bread I             16     bread    4.39   \n",
       "13281                   Basic Rye Bread             16     bread    4.37   \n",
       "15152     Bourbon Cream Cheese Frosting             16  desserts    4.67   \n",
       "20315          Sweet Honey French Bread             17     bread    4.45   \n",
       "\n",
       "       review_count  \n",
       "1741            168  \n",
       "3552            459  \n",
       "22272            17  \n",
       "20065           230  \n",
       "3226            179  \n",
       "5053            689  \n",
       "13231            79  \n",
       "13281            37  \n",
       "15152            59  \n",
       "20315           133  "
      ]
     },
     "execution_count": 80,
     "metadata": {},
     "output_type": "execute_result"
    }
   ],
   "source": [
    "# Get the top 10 shortest recipes based on recipe length\n",
    "top_10_shortest_recipes = df.nsmallest(10, 'recipe_length')[['name', 'recipe_length', 'category', 'rating', 'review_count']]\n",
    "\n",
    "top_10_shortest_recipes"
   ]
  },
  {
   "cell_type": "code",
   "execution_count": null,
   "id": "2d2d4ac3-b49e-438e-88b8-3c0862e9be2e",
   "metadata": {},
   "outputs": [],
   "source": []
  },
  {
   "cell_type": "markdown",
   "id": "e8eb8cd2-046f-4e56-8af8-64074254d22a",
   "metadata": {},
   "source": [
    "### **Relationship between Recipe Length and Preparation Time**<a id=''></a>\n",
    "[Contents](#Contents)"
   ]
  },
  {
   "cell_type": "code",
   "execution_count": 90,
   "id": "f44bded4-93ea-439a-b1a1-a06c8a2210de",
   "metadata": {
    "tags": []
   },
   "outputs": [
    {
     "data": {
      "text/plain": [
       "0.3297578017094255"
      ]
     },
     "execution_count": 90,
     "metadata": {},
     "output_type": "execute_result"
    }
   ],
   "source": [
    "import re\n",
    "\n",
    "# Convert time to numerical minutes\n",
    "def convert_time_to_minutes(time_str):\n",
    "    if 'hr' in time_str and 'min' in time_str:\n",
    "        parts = re.findall(r'\\d+', time_str)\n",
    "        return int(parts[0]) * 60 + int(parts[1])\n",
    "    elif 'hr' in time_str:\n",
    "        return int(re.findall(r'\\d+', time_str)[0]) * 60\n",
    "    elif 'min' in time_str:\n",
    "        return int(re.findall(r'\\d+', time_str)[0])\n",
    "    else:\n",
    "        return np.nan\n",
    "\n",
    "# Apply the conversion function to the prep column\n",
    "df['prep_minutes'] = df['prep'].apply(lambda x: convert_time_to_minutes(str(x)))\n",
    "\n",
    "# Calculate the correlation\n",
    "correlation_length_prep = df['recipe_length'].corr(df['prep_minutes'])\n",
    "\n",
    "correlation_length_prep"
   ]
  },
  {
   "cell_type": "markdown",
   "id": "380f6d6c-fb1d-43dc-af87-a98e621ebf16",
   "metadata": {
    "tags": []
   },
   "source": [
    "The correlation coefficient between recipe length and preparation time (in minutes) is approximately 0.330. This indicates a moderate positive correlation, suggesting that recipes with longer directions tend to have longer preparation times."
   ]
  },
  {
   "cell_type": "markdown",
   "id": "494a3052-69e1-4c38-839d-8c0b30ed32f1",
   "metadata": {},
   "source": [
    "### **Relationship between Recipe Length and Cook Time**<a id=''></a>\n",
    "[Contents](#Contents)"
   ]
  },
  {
   "cell_type": "code",
   "execution_count": 94,
   "id": "40652c4d-dee4-475f-8724-3c31460a4fc6",
   "metadata": {
    "tags": []
   },
   "outputs": [
    {
     "data": {
      "text/plain": [
       "0.016303346258153283"
      ]
     },
     "execution_count": 94,
     "metadata": {},
     "output_type": "execute_result"
    }
   ],
   "source": [
    "def convert_cook_time_to_minutes(time_str):\n",
    "    time_str = str(time_str).strip().lower()\n",
    "    if 'hr' in time_str and 'min' in time_str:\n",
    "        parts = re.findall(r'\\d+', time_str)\n",
    "        return int(parts[0]) * 60 + int(parts[1])\n",
    "    elif 'hr' in time_str:\n",
    "        return int(re.findall(r'\\d+', time_str)[0]) * 60\n",
    "    elif 'min' in time_str:\n",
    "        return int(re.findall(r'\\d+', time_str)[0])\n",
    "    elif ' ' in time_str:  # Handles cases like \"1 30\"\n",
    "        parts = re.findall(r'\\d+', time_str)\n",
    "        return int(parts[0]) * 60 + int(parts[1])\n",
    "    elif time_str.isdigit():\n",
    "        return int(time_str)\n",
    "    else:\n",
    "        return np.nan\n",
    "\n",
    "# Apply the conversion function to the cook column\n",
    "df['cook_minutes'] = df['cook'].apply(lambda x: convert_cook_time_to_minutes(str(x)))\n",
    "\n",
    "# Calculate the correlation between recipe length and cook time\n",
    "correlation_length_cook = df['recipe_length'].corr(df['cook_minutes'])\n",
    "\n",
    "correlation_length_cook"
   ]
  },
  {
   "cell_type": "markdown",
   "id": "5f10b268-551c-4206-b344-fc4ca874ddd5",
   "metadata": {},
   "source": [
    "The correlation coefficient between recipe length and cook time (in minutes) is approximately 0.111. This indicates a very weak positive correlation, suggesting that there is a slight tendency for recipes with longer directions to have longer cook times, but the relationship is not strong."
   ]
  },
  {
   "cell_type": "markdown",
   "id": "6753f6c5-a917-4f34-8974-6d1612e3394f",
   "metadata": {},
   "source": [
    "### **Correlation between the Number of Ingredients and Recipe Length**<a id=''></a>\n",
    "[Contents](#Contents)"
   ]
  },
  {
   "cell_type": "code",
   "execution_count": 98,
   "id": "64218c1a-c994-457a-a6a1-1bb7c194e3c8",
   "metadata": {
    "tags": []
   },
   "outputs": [
    {
     "data": {
      "text/plain": [
       "0.4466547623579343"
      ]
     },
     "execution_count": 98,
     "metadata": {},
     "output_type": "execute_result"
    }
   ],
   "source": [
    "# Calculate the correlation between the number of ingredients and recipe length\n",
    "correlation_length_ingredients = df['recipe_length'].corr(df['ingredient_count'])\n",
    "\n",
    "correlation_length_ingredients"
   ]
  },
  {
   "cell_type": "markdown",
   "id": "8b9f7adb-dbfb-405f-a68c-5aa037a8f840",
   "metadata": {
    "tags": []
   },
   "source": [
    "The correlation coefficient between the number of ingredients and recipe length is approximately 0.447. This indicates a moderate positive correlation, suggesting that recipes with more ingredients tend to have longer directions."
   ]
  },
  {
   "cell_type": "markdown",
   "id": "cdf5d69c-e30c-4420-93c8-a2fb9a30be78",
   "metadata": {},
   "source": [
    "### **Correlation between Recipe Length and the Number of Calories**<a id=''></a>\n",
    "[Contents](#Contents)"
   ]
  },
  {
   "cell_type": "code",
   "execution_count": 106,
   "id": "2143e842-1443-4d15-b1d1-74325d9f292e",
   "metadata": {
    "tags": []
   },
   "outputs": [
    {
     "data": {
      "text/plain": [
       "0.2289701918678806"
      ]
     },
     "execution_count": 106,
     "metadata": {},
     "output_type": "execute_result"
    }
   ],
   "source": [
    "# Calculate the correlation between recipe length and the number of calories\n",
    "correlation_length_calories = df['recipe_length'].corr(df['calories'])\n",
    "\n",
    "correlation_length_calories"
   ]
  },
  {
   "cell_type": "markdown",
   "id": "07d019fe-498a-4962-8e0a-1bda89df45f1",
   "metadata": {},
   "source": [
    "The correlation coefficient between recipe length and the number of calories is approximately 0.229. This indicates a weak positive correlation, suggesting that recipes with longer directions tend to have a slightly higher number of calories, but the relationship is not strong."
   ]
  },
  {
   "cell_type": "markdown",
   "id": "6dd034e2-60c2-48ba-b98e-3fd3b35f5ccf",
   "metadata": {},
   "source": [
    "### **Average Recipe Length for Different Meal Categories**<a id=''></a>\n",
    "[Contents](#Contents)"
   ]
  },
  {
   "cell_type": "code",
   "execution_count": 110,
   "id": "483019f1-45cb-4cc3-8ff0-43c42a6e5868",
   "metadata": {
    "tags": []
   },
   "outputs": [
    {
     "data": {
      "text/html": [
       "<div>\n",
       "<style scoped>\n",
       "    .dataframe tbody tr th:only-of-type {\n",
       "        vertical-align: middle;\n",
       "    }\n",
       "\n",
       "    .dataframe tbody tr th {\n",
       "        vertical-align: top;\n",
       "    }\n",
       "\n",
       "    .dataframe thead th {\n",
       "        text-align: right;\n",
       "    }\n",
       "</style>\n",
       "<table border=\"1\" class=\"dataframe\">\n",
       "  <thead>\n",
       "    <tr style=\"text-align: right;\">\n",
       "      <th></th>\n",
       "      <th>category</th>\n",
       "      <th>recipe_length</th>\n",
       "    </tr>\n",
       "  </thead>\n",
       "  <tbody>\n",
       "    <tr>\n",
       "      <th>0</th>\n",
       "      <td>holidays-and-events</td>\n",
       "      <td>219.125000</td>\n",
       "    </tr>\n",
       "    <tr>\n",
       "      <th>1</th>\n",
       "      <td>bbq-grilling</td>\n",
       "      <td>178.000000</td>\n",
       "    </tr>\n",
       "    <tr>\n",
       "      <th>2</th>\n",
       "      <td>world-cuisine</td>\n",
       "      <td>139.358377</td>\n",
       "    </tr>\n",
       "    <tr>\n",
       "      <th>3</th>\n",
       "      <td>bread</td>\n",
       "      <td>138.386437</td>\n",
       "    </tr>\n",
       "    <tr>\n",
       "      <th>4</th>\n",
       "      <td>desserts</td>\n",
       "      <td>132.069123</td>\n",
       "    </tr>\n",
       "    <tr>\n",
       "      <th>5</th>\n",
       "      <td>meat-and-poultry</td>\n",
       "      <td>125.732183</td>\n",
       "    </tr>\n",
       "    <tr>\n",
       "      <th>6</th>\n",
       "      <td>main-dish</td>\n",
       "      <td>120.500737</td>\n",
       "    </tr>\n",
       "    <tr>\n",
       "      <th>7</th>\n",
       "      <td>pasta-and-noodles</td>\n",
       "      <td>118.766990</td>\n",
       "    </tr>\n",
       "    <tr>\n",
       "      <th>8</th>\n",
       "      <td>fruits-and-vegetables</td>\n",
       "      <td>117.910931</td>\n",
       "    </tr>\n",
       "    <tr>\n",
       "      <th>9</th>\n",
       "      <td>trusted-brands-recipes-and-tips</td>\n",
       "      <td>113.595867</td>\n",
       "    </tr>\n",
       "    <tr>\n",
       "      <th>10</th>\n",
       "      <td>soups-stews-and-chili</td>\n",
       "      <td>110.993297</td>\n",
       "    </tr>\n",
       "    <tr>\n",
       "      <th>11</th>\n",
       "      <td>breakfast-and-brunch</td>\n",
       "      <td>110.515665</td>\n",
       "    </tr>\n",
       "    <tr>\n",
       "      <th>12</th>\n",
       "      <td>seafood</td>\n",
       "      <td>108.504341</td>\n",
       "    </tr>\n",
       "    <tr>\n",
       "      <th>13</th>\n",
       "      <td>everyday-cooking</td>\n",
       "      <td>108.078431</td>\n",
       "    </tr>\n",
       "    <tr>\n",
       "      <th>14</th>\n",
       "      <td>appetizers-and-snacks</td>\n",
       "      <td>106.312763</td>\n",
       "    </tr>\n",
       "    <tr>\n",
       "      <th>15</th>\n",
       "      <td>salad</td>\n",
       "      <td>95.866899</td>\n",
       "    </tr>\n",
       "    <tr>\n",
       "      <th>16</th>\n",
       "      <td>side-dish</td>\n",
       "      <td>92.516771</td>\n",
       "    </tr>\n",
       "    <tr>\n",
       "      <th>17</th>\n",
       "      <td>drinks</td>\n",
       "      <td>62.162500</td>\n",
       "    </tr>\n",
       "  </tbody>\n",
       "</table>\n",
       "</div>"
      ],
      "text/plain": [
       "                           category  recipe_length\n",
       "0               holidays-and-events     219.125000\n",
       "1                      bbq-grilling     178.000000\n",
       "2                     world-cuisine     139.358377\n",
       "3                             bread     138.386437\n",
       "4                          desserts     132.069123\n",
       "5                  meat-and-poultry     125.732183\n",
       "6                         main-dish     120.500737\n",
       "7                 pasta-and-noodles     118.766990\n",
       "8             fruits-and-vegetables     117.910931\n",
       "9   trusted-brands-recipes-and-tips     113.595867\n",
       "10            soups-stews-and-chili     110.993297\n",
       "11             breakfast-and-brunch     110.515665\n",
       "12                          seafood     108.504341\n",
       "13                 everyday-cooking     108.078431\n",
       "14            appetizers-and-snacks     106.312763\n",
       "15                            salad      95.866899\n",
       "16                        side-dish      92.516771\n",
       "17                           drinks      62.162500"
      ]
     },
     "execution_count": 110,
     "metadata": {},
     "output_type": "execute_result"
    }
   ],
   "source": [
    "# Calculate the average recipe length for each meal category\n",
    "average_recipe_length_by_meal_category = df.groupby('category')['recipe_length'].mean().reset_index()\n",
    "\n",
    "# Order the average recipe length by descending\n",
    "average_recipe_length_by_meal_category = average_recipe_length_by_meal_category.sort_values(by='recipe_length', ascending=False).reset_index(drop=True)\n",
    "\n",
    "average_recipe_length_by_meal_category"
   ]
  },
  {
   "cell_type": "code",
   "execution_count": null,
   "id": "39f3f1e0-7626-4346-9efd-1065477b7d80",
   "metadata": {},
   "outputs": [],
   "source": []
  },
  {
   "cell_type": "markdown",
   "id": "a787030e-72e1-4404-82ff-995c244ecf55",
   "metadata": {},
   "source": [
    "### **Correlation between Recipe Length and the Number of Servings**<a id=''></a>\n",
    "[Contents](#Contents)"
   ]
  },
  {
   "cell_type": "code",
   "execution_count": 114,
   "id": "bb49d337-8a28-444a-9e38-8de5cc679bba",
   "metadata": {
    "tags": []
   },
   "outputs": [
    {
     "data": {
      "text/plain": [
       "0.08768828366065232"
      ]
     },
     "execution_count": 114,
     "metadata": {},
     "output_type": "execute_result"
    }
   ],
   "source": [
    "# Calculate the correlation between recipe length and the number of servings\n",
    "correlation_length_servings = df['recipe_length'].corr(df['servings'])\n",
    "\n",
    "correlation_length_servings"
   ]
  },
  {
   "cell_type": "markdown",
   "id": "d410f171-b503-43e1-bc92-1ec9065f5248",
   "metadata": {},
   "source": [
    "The correlation coefficient between recipe length and the number of servings is approximately 0.088. This indicates a very weak positive correlation, suggesting that there is essentially no significant relationship between the length of a recipe and the number of servings it provides."
   ]
  },
  {
   "cell_type": "markdown",
   "id": "864c0c01-4acf-4ed5-aa8d-26bfae457e1f",
   "metadata": {},
   "source": [
    "### **Average Prep/Cook/Total Time**<a id=''></a>\n",
    "[Contents](#Contents)"
   ]
  },
  {
   "cell_type": "code",
   "execution_count": 118,
   "id": "22edbb45-8afc-42f9-a576-1e3d18709b99",
   "metadata": {
    "tags": []
   },
   "outputs": [
    {
     "data": {
      "text/plain": [
       "(17.80593379829514, 43.8223919701834, 61.62832576847854)"
      ]
     },
     "execution_count": 118,
     "metadata": {},
     "output_type": "execute_result"
    }
   ],
   "source": [
    "# Ensure that the prep, cook, and total times are numeric and convert them to minutes\n",
    "df['prep_minutes'] = df['prep'].apply(lambda x: convert_cook_time_to_minutes(str(x)))\n",
    "df['cook_minutes'] = df['cook'].apply(lambda x: convert_cook_time_to_minutes(str(x)))\n",
    "df['total_minutes'] = df['prep_minutes'] + df['cook_minutes']\n",
    "\n",
    "# Calculate the average prep, cook, and total time\n",
    "average_prep_time = df['prep_minutes'].mean()\n",
    "average_cook_time = df['cook_minutes'].mean()\n",
    "average_total_time = df['total_minutes'].mean()\n",
    "\n",
    "average_prep_time, average_cook_time, average_total_time"
   ]
  },
  {
   "cell_type": "code",
   "execution_count": null,
   "id": "4d1824b4-ca33-43d5-9f37-9f8f447ba110",
   "metadata": {},
   "outputs": [],
   "source": []
  },
  {
   "cell_type": "markdown",
   "id": "7fa1471e-6234-4db4-a4a2-ead3f530c491",
   "metadata": {},
   "source": [
    "### **Top 10 Most Popular Ingredients**<a id=''></a>\n",
    "[Contents](#Contents)"
   ]
  },
  {
   "cell_type": "code",
   "execution_count": 124,
   "id": "61338491-ea39-415c-b6d5-d20239df2b05",
   "metadata": {
    "tags": []
   },
   "outputs": [
    {
     "data": {
      "text/plain": [
       "[(\"'salt'\", 13077),\n",
       " (\"'white sugar'\", 5726),\n",
       " (\"'black pepper']\", 5482),\n",
       " (\"'all - purpose flour'\", 5325),\n",
       " (\"'onion'\", 5066),\n",
       " (\"'butter'\", 4968),\n",
       " (\"'olive oil'\", 4887),\n",
       " (\"'water'\", 3945),\n",
       " (\"'eggs'\", 3756),\n",
       " (\"'cloves'\", 3472)]"
      ]
     },
     "execution_count": 124,
     "metadata": {},
     "output_type": "execute_result"
    }
   ],
   "source": [
    "# Split the high_level_ingredients into individual ingredients and count their occurrences\n",
    "from collections import Counter\n",
    "\n",
    "# Concatenate all high_level_ingredients into a single list\n",
    "all_ingredients = df['high_level_ingredients'].dropna().str.split(', ').sum()\n",
    "\n",
    "# Count the frequency of each ingredient\n",
    "ingredient_counts = Counter(all_ingredients)\n",
    "\n",
    "# Get the top 10 most popular ingredients\n",
    "top_10_ingredients = ingredient_counts.most_common(10)\n",
    "\n",
    "top_10_ingredients"
   ]
  },
  {
   "cell_type": "code",
   "execution_count": null,
   "id": "1faec790-c691-40fc-9fe7-1fbb52d28ad8",
   "metadata": {},
   "outputs": [],
   "source": []
  }
 ],
 "metadata": {
  "kernelspec": {
   "display_name": "Python 3 (ipykernel)",
   "language": "python",
   "name": "python3"
  },
  "language_info": {
   "codemirror_mode": {
    "name": "ipython",
    "version": 3
   },
   "file_extension": ".py",
   "mimetype": "text/x-python",
   "name": "python",
   "nbconvert_exporter": "python",
   "pygments_lexer": "ipython3",
   "version": "3.11.9"
  }
 },
 "nbformat": 4,
 "nbformat_minor": 5
}
